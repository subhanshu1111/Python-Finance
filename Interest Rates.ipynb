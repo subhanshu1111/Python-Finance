{
 "cells": [
  {
   "cell_type": "markdown",
   "id": "71685d7e",
   "metadata": {},
   "source": [
    "# Calculate Interest Rates and Returns "
   ]
  },
  {
   "cell_type": "markdown",
   "id": "42bb6d17",
   "metadata": {},
   "source": [
    "Calculating **Interest Rates** (one period): Today you recieve the offer to deposit 90 USD in a savings account, getting back 93.5 USD in **one year**."
   ]
  },
  {
   "cell_type": "code",
   "execution_count": 1,
   "id": "eaedb955",
   "metadata": {},
   "outputs": [
    {
     "data": {
      "text/plain": [
       "0.03888888888888897"
      ]
     },
     "execution_count": 1,
     "metadata": {},
     "output_type": "execute_result"
    }
   ],
   "source": [
    "93.5/90 -1"
   ]
  },
  {
   "cell_type": "code",
   "execution_count": 2,
   "id": "a8192fe2",
   "metadata": {},
   "outputs": [
    {
     "data": {
      "text/plain": [
       "0.03888888888888889"
      ]
     },
     "execution_count": 2,
     "metadata": {},
     "output_type": "execute_result"
    }
   ],
   "source": [
    "(93.5-90)/90"
   ]
  },
  {
   "cell_type": "markdown",
   "id": "8e48e673",
   "metadata": {},
   "source": [
    "Calculating **Interest Rates** (many periods): Today you recieve the offer to deposit 90 USD in a savings account, getting back 93.5 USD in **three year**."
   ]
  },
  {
   "cell_type": "code",
   "execution_count": 3,
   "id": "51f481d7",
   "metadata": {},
   "outputs": [
    {
     "data": {
      "text/plain": [
       "0.012798463496144663"
      ]
     },
     "execution_count": 3,
     "metadata": {},
     "output_type": "execute_result"
    }
   ],
   "source": [
    "(93.5/90)**(1/3)-1"
   ]
  },
  {
   "cell_type": "markdown",
   "id": "5cacf066",
   "metadata": {},
   "source": [
    "Calculating **Price Returns: One year ago** you invested 50 USD in a stock that is now worth 56.6 USD."
   ]
  },
  {
   "cell_type": "code",
   "execution_count": 4,
   "id": "ee111689",
   "metadata": {},
   "outputs": [
    {
     "data": {
      "text/plain": [
       "0.13200000000000012"
      ]
     },
     "execution_count": 4,
     "metadata": {},
     "output_type": "execute_result"
    }
   ],
   "source": [
    "56.6/50-1"
   ]
  },
  {
   "cell_type": "markdown",
   "id": "8742a66f",
   "metadata": {},
   "source": [
    "Calculating **Total Returns: One year ago** you invested 50 USD in a stock that paid a Dividend of 2 USD and is now worth 56.5 USD "
   ]
  },
  {
   "cell_type": "code",
   "execution_count": 5,
   "id": "ed2df065",
   "metadata": {},
   "outputs": [
    {
     "data": {
      "text/plain": [
       "0.16999999999999993"
      ]
     },
     "execution_count": 5,
     "metadata": {},
     "output_type": "execute_result"
    }
   ],
   "source": [
    "(56.5+2)/50 -1 "
   ]
  },
  {
   "cell_type": "code",
   "execution_count": null,
   "id": "5e39c2ba",
   "metadata": {},
   "outputs": [],
   "source": []
  }
 ],
 "metadata": {
  "kernelspec": {
   "display_name": "Python 3 (ipykernel)",
   "language": "python",
   "name": "python3"
  },
  "language_info": {
   "codemirror_mode": {
    "name": "ipython",
    "version": 3
   },
   "file_extension": ".py",
   "mimetype": "text/x-python",
   "name": "python",
   "nbconvert_exporter": "python",
   "pygments_lexer": "ipython3",
   "version": "3.9.13"
  }
 },
 "nbformat": 4,
 "nbformat_minor": 5
}
