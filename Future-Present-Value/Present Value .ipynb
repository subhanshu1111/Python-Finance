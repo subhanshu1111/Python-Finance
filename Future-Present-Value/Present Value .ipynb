{
 "cells": [
  {
   "cell_type": "markdown",
   "id": "1b1e2794",
   "metadata": {},
   "source": [
    "# Calculate Present Values (Discounting)"
   ]
  },
  {
   "cell_type": "markdown",
   "id": "2f49c771",
   "metadata": {},
   "source": [
    "Calculating **Present Values** (one period): How many USD to save today at an interest rate of 4.5% p.a. to get 110 USD in one year? "
   ]
  },
  {
   "cell_type": "code",
   "execution_count": 1,
   "id": "8681d943",
   "metadata": {},
   "outputs": [
    {
     "data": {
      "text/plain": [
       "105.26315789473685"
      ]
     },
     "execution_count": 1,
     "metadata": {},
     "output_type": "execute_result"
    }
   ],
   "source": [
    "110/1.045\n"
   ]
  },
  {
   "cell_type": "code",
   "execution_count": 2,
   "id": "a6eea663",
   "metadata": {},
   "outputs": [
    {
     "data": {
      "text/plain": [
       "105.26315789473685"
      ]
     },
     "execution_count": 2,
     "metadata": {},
     "output_type": "execute_result"
    }
   ],
   "source": [
    "110/(1+0.045)"
   ]
  },
  {
   "cell_type": "markdown",
   "id": "a786a4ff",
   "metadata": {},
   "source": [
    "Calculating **Present Values** (many period): How many USD to save today at an interest rate of 4.5% p.a. to get 110 USD in three years?"
   ]
  },
  {
   "cell_type": "code",
   "execution_count": 3,
   "id": "26419e4f",
   "metadata": {},
   "outputs": [
    {
     "data": {
      "text/plain": [
       "96.39262644604003"
      ]
     },
     "execution_count": 3,
     "metadata": {},
     "output_type": "execute_result"
    }
   ],
   "source": [
    "110/1.045/1.045/1.045"
   ]
  },
  {
   "cell_type": "code",
   "execution_count": 5,
   "id": "0a8f936c",
   "metadata": {},
   "outputs": [
    {
     "data": {
      "text/plain": [
       "96.39262644604003"
      ]
     },
     "execution_count": 5,
     "metadata": {},
     "output_type": "execute_result"
    }
   ],
   "source": [
    "110/1.045**3"
   ]
  },
  {
   "cell_type": "code",
   "execution_count": null,
   "id": "7f6ff599",
   "metadata": {},
   "outputs": [],
   "source": []
  }
 ],
 "metadata": {
  "kernelspec": {
   "display_name": "Python 3 (ipykernel)",
   "language": "python",
   "name": "python3"
  },
  "language_info": {
   "codemirror_mode": {
    "name": "ipython",
    "version": 3
   },
   "file_extension": ".py",
   "mimetype": "text/x-python",
   "name": "python",
   "nbconvert_exporter": "python",
   "pygments_lexer": "ipython3",
   "version": "3.9.13"
  }
 },
 "nbformat": 4,
 "nbformat_minor": 5
}
