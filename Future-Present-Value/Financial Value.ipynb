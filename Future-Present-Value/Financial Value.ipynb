{
 "cells": [
  {
   "cell_type": "markdown",
   "id": "e10e986c",
   "metadata": {},
   "source": [
    "# Calculate Future Value (compouding) "
   ]
  },
  {
   "cell_type": "markdown",
   "id": "5ffaf438",
   "metadata": {},
   "source": [
    "### Calculating Future Values (one period): You have 100 USD today and you save it for one year at an interest rate of 3%."
   ]
  },
  {
   "cell_type": "code",
   "execution_count": 1,
   "id": "43c4f2ae",
   "metadata": {},
   "outputs": [
    {
     "data": {
      "text/plain": [
       "103.0"
      ]
     },
     "execution_count": 1,
     "metadata": {},
     "output_type": "execute_result"
    }
   ],
   "source": [
    "100* 1.03"
   ]
  },
  {
   "cell_type": "code",
   "execution_count": 2,
   "id": "6761f285",
   "metadata": {},
   "outputs": [
    {
     "data": {
      "text/plain": [
       "103.0"
      ]
     },
     "execution_count": 2,
     "metadata": {},
     "output_type": "execute_result"
    }
   ],
   "source": [
    "100* (1+0.03)"
   ]
  },
  {
   "cell_type": "code",
   "execution_count": 3,
   "id": "1a375626",
   "metadata": {},
   "outputs": [
    {
     "data": {
      "text/plain": [
       "103.0"
      ]
     },
     "execution_count": 3,
     "metadata": {},
     "output_type": "execute_result"
    }
   ],
   "source": [
    "100 + 100*0.03"
   ]
  },
  {
   "cell_type": "markdown",
   "id": "d5fc7e17",
   "metadata": {},
   "source": [
    "### Calculating Future Values (many periods): You have 100 USD today and you save it for three years at an interest of 3%."
   ]
  },
  {
   "cell_type": "code",
   "execution_count": 4,
   "id": "3fc9ae0b",
   "metadata": {},
   "outputs": [
    {
     "data": {
      "text/plain": [
       "109.2727"
      ]
     },
     "execution_count": 4,
     "metadata": {},
     "output_type": "execute_result"
    }
   ],
   "source": [
    "100 * 1.03 * 1.03 * 1.03 "
   ]
  },
  {
   "cell_type": "code",
   "execution_count": 5,
   "id": "a2a33cff",
   "metadata": {},
   "outputs": [
    {
     "data": {
      "text/plain": [
       "109.2727"
      ]
     },
     "execution_count": 5,
     "metadata": {},
     "output_type": "execute_result"
    }
   ],
   "source": [
    "100 * 1.03**3"
   ]
  },
  {
   "cell_type": "code",
   "execution_count": null,
   "id": "803f0c04",
   "metadata": {},
   "outputs": [],
   "source": []
  }
 ],
 "metadata": {
  "kernelspec": {
   "display_name": "Python 3 (ipykernel)",
   "language": "python",
   "name": "python3"
  },
  "language_info": {
   "codemirror_mode": {
    "name": "ipython",
    "version": 3
   },
   "file_extension": ".py",
   "mimetype": "text/x-python",
   "name": "python",
   "nbconvert_exporter": "python",
   "pygments_lexer": "ipython3",
   "version": "3.9.13"
  }
 },
 "nbformat": 4,
 "nbformat_minor": 5
}
